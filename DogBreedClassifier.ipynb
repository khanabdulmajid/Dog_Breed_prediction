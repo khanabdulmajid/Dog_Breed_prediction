{
  "nbformat": 4,
  "nbformat_minor": 0,
  "metadata": {
    "colab": {
      "provenance": [],
      "authorship_tag": "ABX9TyMlzz4GzNlh5Hix3TBXgJ0e",
      "include_colab_link": true
    },
    "kernelspec": {
      "name": "python3",
      "display_name": "Python 3"
    },
    "language_info": {
      "name": "python"
    }
  },
  "cells": [
    {
      "cell_type": "markdown",
      "metadata": {
        "id": "view-in-github",
        "colab_type": "text"
      },
      "source": [
        "<a href=\"https://colab.research.google.com/github/khanabdulmajid/Dog_Breed_prediction/blob/main/DogBreedClassifier.ipynb\" target=\"_parent\"><img src=\"https://colab.research.google.com/assets/colab-badge.svg\" alt=\"Open In Colab\"/></a>"
      ]
    },
    {
      "cell_type": "code",
      "execution_count": 14,
      "metadata": {
        "id": "QPJWW4XX51e9"
      },
      "outputs": [],
      "source": [
        "import tensorflow as tf\n",
        "import numpy as np\n",
        "import pandas as pd\n",
        "from google.colab import files\n",
        "import os\n"
      ]
    },
    {
      "cell_type": "code",
      "source": [
        "uploaded=files.upload()\n",
        "!pip install kaggle\n",
        "\n",
        "! mkdir ~/.kaggle\n",
        "! cp kaggle.json ~/.kaggle/\n",
        "! chmod 600 ~/.kaggle/kaggle.json\n"
      ],
      "metadata": {
        "id": "NOa4gSjZ59rh"
      },
      "execution_count": null,
      "outputs": []
    },
    {
      "cell_type": "code",
      "source": [
        "!kaggle datasets list -s dogbreedidfromcomp"
      ],
      "metadata": {
        "colab": {
          "base_uri": "https://localhost:8080/"
        },
        "id": "SV9_bqmrFKhO",
        "outputId": "7230a364-ae81-4cd3-89b7-7097d2f1ac41"
      },
      "execution_count": 7,
      "outputs": [
        {
          "output_type": "stream",
          "name": "stdout",
          "text": [
            "ref                                title                    size  lastUpdated          downloadCount  voteCount  usabilityRating  \n",
            "---------------------------------  ----------------------  -----  -------------------  -------------  ---------  ---------------  \n",
            "catherinehorng/dogbreedidfromcomp  dog-breed-id-from-comp  691MB  2020-06-26 03:09:05           5696          8  0.1764706        \n"
          ]
        }
      ]
    },
    {
      "cell_type": "code",
      "source": [
        "!kaggle datasets download catherinehorng/dogbreedidfromcomp"
      ],
      "metadata": {
        "colab": {
          "base_uri": "https://localhost:8080/"
        },
        "id": "pCg3qBwPkIqF",
        "outputId": "25e79b42-167c-4da0-d446-96df2b8ef00f"
      },
      "execution_count": 10,
      "outputs": [
        {
          "output_type": "stream",
          "name": "stdout",
          "text": [
            "Dataset URL: https://www.kaggle.com/datasets/catherinehorng/dogbreedidfromcomp\n",
            "License(s): unknown\n",
            "Downloading dogbreedidfromcomp.zip to /content/dog_dataset\n",
            "100% 689M/691M [00:23<00:00, 31.7MB/s]\n",
            "100% 691M/691M [00:23<00:00, 31.1MB/s]\n"
          ]
        }
      ]
    },
    {
      "cell_type": "code",
      "source": [
        "!mkdir dog_dataset\n",
        "%cd dog_dataset"
      ],
      "metadata": {
        "id": "_ooJ0bVmFrtG",
        "colab": {
          "base_uri": "https://localhost:8080/"
        },
        "outputId": "25c4ee28-d8a4-414b-cef5-04b9ba6101cd"
      },
      "execution_count": 8,
      "outputs": [
        {
          "output_type": "stream",
          "name": "stdout",
          "text": [
            "/content/dog_dataset\n"
          ]
        }
      ]
    },
    {
      "cell_type": "code",
      "source": [
        "!unzip /content/dog_dataset/dogbreedidfromcomp.zip -d dog_dataset"
      ],
      "metadata": {
        "id": "nC6qKrezFKJs"
      },
      "execution_count": null,
      "outputs": []
    },
    {
      "cell_type": "code",
      "source": [
        "!rm /content/dog_dataset/dog_dataset/sample_submission.csv\n",
        "!rm /content/dog_dataset/dogbreedidfromcomp.zip"
      ],
      "metadata": {
        "id": "PPbOzI-lkz54"
      },
      "execution_count": 15,
      "outputs": []
    },
    {
      "cell_type": "code",
      "source": [
        "train_dir = \"/content/dog_dataset/dog_dataset/train\"\n",
        "test_dir = \"/content/dog_dataset/dog_dataset/test\""
      ],
      "metadata": {
        "id": "1Sn_2rXAFkro"
      },
      "execution_count": 16,
      "outputs": []
    },
    {
      "cell_type": "code",
      "source": [],
      "metadata": {
        "id": "Xp3gjem-l_K5"
      },
      "execution_count": null,
      "outputs": []
    },
    {
      "cell_type": "code",
      "source": [],
      "metadata": {
        "id": "SmPthlrkHuoh"
      },
      "execution_count": null,
      "outputs": []
    }
  ]
}